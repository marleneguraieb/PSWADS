{
 "cells": [
  {
   "cell_type": "markdown",
   "metadata": {},
   "source": [
    "# Big O notation"
   ]
  },
  {
   "cell_type": "code",
   "execution_count": 1,
   "metadata": {
    "collapsed": true
   },
   "outputs": [],
   "source": [
    "import time\n",
    "\n",
    "def sumOfN2(n):\n",
    "   start = time.time()\n",
    "\n",
    "   theSum = 0\n",
    "   for i in range(1,n+1):\n",
    "      theSum = theSum + i\n",
    "\n",
    "   end = time.time()\n",
    "\n",
    "   return theSum,end-start"
   ]
  },
  {
   "cell_type": "code",
   "execution_count": 4,
   "metadata": {
    "collapsed": false
   },
   "outputs": [
    {
     "name": "stdout",
     "output_type": "stream",
     "text": [
      "Sum is 50005000 required  0.0010791 seconds\n",
      "Sum is 50005000 required  0.0010269 seconds\n",
      "Sum is 50005000 required  0.0010459 seconds\n",
      "Sum is 50005000 required  0.0011978 seconds\n",
      "Sum is 50005000 required  0.0011342 seconds\n"
     ]
    }
   ],
   "source": [
    "for i in range(5):\n",
    "       print(\"Sum is %d required %10.7f seconds\"%sumOfN2(10000))"
   ]
  },
  {
   "cell_type": "code",
   "execution_count": 8,
   "metadata": {
    "collapsed": false
   },
   "outputs": [],
   "source": [
    "# Self check: write a function that finds the smallest number in a list\n",
    "# this one is quadratic, two nested loops: O(n)=n^2\n",
    "import time\n",
    "from random import randrange\n",
    "def findmin(alist):\n",
    "    overallmin = alist[0]\n",
    "    for i in alist:\n",
    "        issmallest = True\n",
    "        for j in alist:\n",
    "            if i > j:\n",
    "                issmallest = False\n",
    "        if issmallest:\n",
    "            overallmin = i\n",
    "    return overallmin"
   ]
  },
  {
   "cell_type": "code",
   "execution_count": 7,
   "metadata": {
    "collapsed": false
   },
   "outputs": [
    {
     "name": "stdout",
     "output_type": "stream",
     "text": [
      "1\n"
     ]
    }
   ],
   "source": [
    "print(findmin([5,4,1,8,7]))"
   ]
  },
  {
   "cell_type": "code",
   "execution_count": 12,
   "metadata": {
    "collapsed": false
   },
   "outputs": [
    {
     "name": "stdout",
     "output_type": "stream",
     "text": [
      "2617\n",
      "size: 1000 time: 0.059557\n",
      "25\n",
      "size: 2000 time: 0.217936\n",
      "32\n",
      "size: 3000 time: 0.481425\n",
      "277\n",
      "size: 4000 time: 0.836147\n",
      "8\n",
      "size: 5000 time: 1.368550\n",
      "28\n",
      "size: 6000 time: 1.811918\n",
      "34\n",
      "size: 7000 time: 2.426557\n",
      "128\n",
      "size: 8000 time: 3.150813\n",
      "106\n",
      "size: 9000 time: 3.986208\n",
      "75\n",
      "size: 10000 time: 4.992156\n"
     ]
    }
   ],
   "source": [
    "for listsize in range(1000,10001,1000):\n",
    "    alist = [randrange(1000000) for x in range(listsize)]\n",
    "    start = time.time()\n",
    "    print(findmin(alist))\n",
    "    end = time.time()\n",
    "    print('size: %d time: %f' % (listsize, end-start))"
   ]
  },
  {
   "cell_type": "code",
   "execution_count": 16,
   "metadata": {
    "collapsed": false
   },
   "outputs": [],
   "source": [
    "#this one is linear, O(n)=n\n",
    "def findmin(alist):\n",
    "    minsofar = alist[0]\n",
    "    for i in alist:\n",
    "        if i< minsofar:\n",
    "            minsofar = i\n",
    "    return minsofar"
   ]
  },
  {
   "cell_type": "code",
   "execution_count": 18,
   "metadata": {
    "collapsed": false
   },
   "outputs": [
    {
     "data": {
      "text/plain": [
       "0"
      ]
     },
     "execution_count": 18,
     "metadata": {},
     "output_type": "execute_result"
    }
   ],
   "source": [
    "findmin([5,4,3,2,9,0])"
   ]
  },
  {
   "cell_type": "code",
   "execution_count": 19,
   "metadata": {
    "collapsed": false
   },
   "outputs": [
    {
     "name": "stdout",
     "output_type": "stream",
     "text": [
      "1789\n",
      "size: 1000 time: 0.000217\n",
      "917\n",
      "size: 2000 time: 0.000225\n",
      "333\n",
      "size: 3000 time: 0.000162\n",
      "22\n",
      "size: 4000 time: 0.000212\n",
      "294\n",
      "size: 5000 time: 0.000244\n",
      "152\n",
      "size: 6000 time: 0.000426\n",
      "25\n",
      "size: 7000 time: 0.000327\n",
      "53\n",
      "size: 8000 time: 0.000389\n",
      "18\n",
      "size: 9000 time: 0.000414\n",
      "134\n",
      "size: 10000 time: 0.000416\n"
     ]
    }
   ],
   "source": [
    "for listsize in range(1000,10001,1000):\n",
    "    alist = [randrange(1000000) for x in range(listsize)]\n",
    "    start = time.time()\n",
    "    print(findmin(alist))\n",
    "    end = time.time()\n",
    "    print('size: %d time: %f' % (listsize, end-start))"
   ]
  },
  {
   "cell_type": "code",
   "execution_count": 20,
   "metadata": {
    "collapsed": false
   },
   "outputs": [
    {
     "name": "stdout",
     "output_type": "stream",
     "text": [
      "True\n"
     ]
    }
   ],
   "source": [
    "# Checking off solution to find anagrams\n",
    "def anagramSolution1(s1,s2):\n",
    "    alist = list(s2)\n",
    "\n",
    "    pos1 = 0\n",
    "    stillOK = True\n",
    "\n",
    "    while pos1 < len(s1) and stillOK:\n",
    "        pos2 = 0\n",
    "        found = False\n",
    "        while pos2 < len(alist) and not found:\n",
    "            if s1[pos1] == alist[pos2]:\n",
    "                found = True\n",
    "            else:\n",
    "                pos2 = pos2 + 1\n",
    "\n",
    "        if found:\n",
    "            alist[pos2] = None\n",
    "        else:\n",
    "            stillOK = False\n",
    "\n",
    "        pos1 = pos1 + 1\n",
    "\n",
    "    return stillOK\n",
    "\n",
    "print(anagramSolution1('abcd','dcba'))"
   ]
  },
  {
   "cell_type": "code",
   "execution_count": 25,
   "metadata": {
    "collapsed": false
   },
   "outputs": [
    {
     "name": "stdout",
     "output_type": "stream",
     "text": [
      "True\n"
     ]
    }
   ],
   "source": [
    "print(anagramSolution1('marlene','enelram'))"
   ]
  },
  {
   "cell_type": "code",
   "execution_count": 40,
   "metadata": {
    "collapsed": false
   },
   "outputs": [
    {
     "name": "stdout",
     "output_type": "stream",
     "text": [
      "True\n"
     ]
    }
   ],
   "source": [
    "# The sorting solution to find anagrams:\n",
    "def anagramSolution2(s1,s2):\n",
    "    alist1 = list(s1)\n",
    "    alist2 = list(s2)\n",
    "\n",
    "    alist1.sort()\n",
    "    alist2.sort()\n",
    "\n",
    "    pos = 0\n",
    "    matches = True\n",
    "\n",
    "    while pos < len(s1) and matches:\n",
    "        if alist1[pos]==alist2[pos]:\n",
    "            pos = pos + 1\n",
    "        else:\n",
    "            matches = False\n",
    "\n",
    "    return matches\n",
    "\n",
    "print(anagramSolution2('abcde','edcba'))"
   ]
  },
  {
   "cell_type": "code",
   "execution_count": 51,
   "metadata": {
    "collapsed": false
   },
   "outputs": [],
   "source": [
    "# The counting solution to find anagrams\n",
    "def anagramSolution4(s1,s2):\n",
    "    c1 = [0]*26\n",
    "    c2 = [0]*26\n",
    "# ord() Given a string representing one Unicode character, return an integer representing the Unicode \n",
    "#code point of that character. For example, ord('a') returns the integer 97 and ord('€') (Euro sign) \n",
    "#returns 8364. This is the inverse of chr().\n",
    "    for i in range(len(s1)):\n",
    "        pos = ord(s1[i])-ord('a')\n",
    "        c1[pos] = c1[pos] + 1\n",
    "\n",
    "    for i in range(len(s2)):\n",
    "        pos = ord(s2[i])-ord('a')\n",
    "        c2[pos] = c2[pos] + 1\n",
    "    if c1 == c2:\n",
    "        return True\n",
    "    else:\n",
    "        return False\n",
    "#Don't know why he needs this long thing, in the end, if they're anagrams ci should be equal to c2, no?\n",
    "#     j = 0\n",
    "#     stillOK = True\n",
    "#     while j<26 and stillOK:\n",
    "#         if c1[j]==c2[j]:\n",
    "#             j = j + 1\n",
    "#         else:\n",
    "#             stillOK = False\n",
    "\n",
    "#     return stillOK\n"
   ]
  },
  {
   "cell_type": "code",
   "execution_count": 55,
   "metadata": {
    "collapsed": false
   },
   "outputs": [
    {
     "name": "stdout",
     "output_type": "stream",
     "text": [
      "False\n"
     ]
    }
   ],
   "source": [
    "print(anagramSolution4('mirlene','enelram'))"
   ]
  },
  {
   "cell_type": "code",
   "execution_count": 60,
   "metadata": {
    "collapsed": false
   },
   "outputs": [
    {
     "data": {
      "text/plain": [
       "'a'"
      ]
     },
     "execution_count": 60,
     "metadata": {},
     "output_type": "execute_result"
    }
   ],
   "source": [
    "chr(97)"
   ]
  },
  {
   "cell_type": "markdown",
   "metadata": {},
   "source": [
    "# Lists"
   ]
  },
  {
   "cell_type": "markdown",
   "metadata": {},
   "source": [
    "Four different ways to grow a list of n numbers starting with 0. "
   ]
  },
  {
   "cell_type": "code",
   "execution_count": 61,
   "metadata": {
    "collapsed": true
   },
   "outputs": [],
   "source": [
    "def test1():\n",
    "    l = []\n",
    "    for i in range(1000):\n",
    "        l = l + [i]\n",
    "\n",
    "def test2():\n",
    "    l = []\n",
    "    for i in range(1000):\n",
    "        l.append(i)\n",
    "\n",
    "def test3():\n",
    "    l = [i for i in range(1000)]\n",
    "\n",
    "def test4():\n",
    "    l = list(range(1000))\n"
   ]
  },
  {
   "cell_type": "markdown",
   "metadata": {},
   "source": [
    "Now let's time them:"
   ]
  },
  {
   "cell_type": "code",
   "execution_count": 69,
   "metadata": {
    "collapsed": false
   },
   "outputs": [
    {
     "name": "stdout",
     "output_type": "stream",
     "text": [
      "concat  1.8148007929848973 milliseconds\n",
      "append  0.11429262300953269 milliseconds\n",
      "comprehension  0.0495977149985265 milliseconds\n",
      "list range  0.02180514100473374 milliseconds\n"
     ]
    }
   ],
   "source": [
    "import timeit as ti\n",
    "t1 = ti.Timer(\"test1()\", \"from __main__ import test1\")\n",
    "print(\"concat \",t1.timeit(number=1000), \"milliseconds\")\n",
    "t2 = ti.Timer(\"test2()\", \"from __main__ import test2\")\n",
    "print(\"append \",t2.timeit(number=1000), \"milliseconds\")\n",
    "t3 = ti.Timer(\"test3()\", \"from __main__ import test3\")\n",
    "print(\"comprehension \",t3.timeit(number=1000), \"milliseconds\")\n",
    "t4 = ti.Timer(\"test4()\", \"from __main__ import test4\")\n",
    "print(\"list range \",t4.timeit(number=1000), \"milliseconds\")"
   ]
  },
  {
   "cell_type": "markdown",
   "metadata": {},
   "source": [
    "**NOTE:** The statement from ``__main__ import test1`` imports the function test1 from the `__main__` namespace into the namespace that `timeit` sets up for the timing experiment. The timeit module does this because it wants to run the timing tests in an environment that is uncluttered by any stray variables you may have created, that may interfere with your function’s performance in some unforeseen way."
   ]
  },
  {
   "cell_type": "code",
   "execution_count": 75,
   "metadata": {
    "collapsed": false
   },
   "outputs": [
    {
     "name": "stdout",
     "output_type": "stream",
     "text": [
      "empty function 0.00012238198542036116 milliseconds\n"
     ]
    }
   ],
   "source": [
    "def hola():\n",
    "    pass\n",
    "te = ti.Timer('hola()','from __main__ import hola')\n",
    "print(\"empty function\", te.timeit(number=1000),'milliseconds')"
   ]
  },
  {
   "cell_type": "markdown",
   "metadata": {},
   "source": [
    "**Note2:** It's not exactly accurate to say that concat takes 1.81 milliseconds, for example, bc python takes some time to call the function. The line above illustrates how much time it takes to call an empty funciton. "
   ]
  },
  {
   "cell_type": "code",
   "execution_count": 77,
   "metadata": {
    "collapsed": false
   },
   "outputs": [],
   "source": [
    "popzero = timeit.Timer(\"x.pop(0)\",\n",
    "                       \"from __main__ import x\")\n",
    "popend = timeit.Timer(\"x.pop()\",\n",
    "                      \"from __main__ import x\")\n",
    "\n",
    "x = list(range(2000000))"
   ]
  },
  {
   "cell_type": "code",
   "execution_count": 78,
   "metadata": {
    "collapsed": false
   },
   "outputs": [
    {
     "data": {
      "text/plain": [
       "2.1711451269802637"
      ]
     },
     "execution_count": 78,
     "metadata": {},
     "output_type": "execute_result"
    }
   ],
   "source": [
    "popzero.timeit(number=1000)"
   ]
  },
  {
   "cell_type": "code",
   "execution_count": 80,
   "metadata": {
    "collapsed": false
   },
   "outputs": [
    {
     "data": {
      "text/plain": [
       "0.0001390129909850657"
      ]
     },
     "execution_count": 80,
     "metadata": {},
     "output_type": "execute_result"
    }
   ],
   "source": [
    "popend.timeit(number=1000)"
   ]
  },
  {
   "cell_type": "markdown",
   "metadata": {},
   "source": [
    "So, popend is indeed a lot faster than popzero, but the claim here is that ``popzero`` is $O(n)$, while ``popend`` is $O(1)$, so that has to do with the rates of change as n grows (one should be constant, the other increasing), let's check:"
   ]
  },
  {
   "cell_type": "code",
   "execution_count": 82,
   "metadata": {
    "collapsed": false
   },
   "outputs": [
    {
     "name": "stdout",
     "output_type": "stream",
     "text": [
      "pop(0)   pop()\n",
      "        1.13644,         0.00014\n",
      "        1.99578,         0.00014\n",
      "        2.91566,         0.00034\n",
      "        3.98653,         0.00013\n",
      "        4.78120,         0.00036\n",
      "        5.89120,         0.00013\n",
      "        6.79368,         0.00021\n",
      "        8.15829,         0.00035\n",
      "        9.12003,         0.00035\n",
      "        9.96094,         0.00039\n",
      "       10.76452,         0.00037\n",
      "       12.43674,         0.00013\n",
      "       13.77721,         0.00014\n",
      "       16.36170,         0.00015\n",
      "       20.18388,         0.00016\n",
      "       20.64745,         0.00014\n",
      "       20.65110,         0.00029\n",
      "       20.54851,         0.00016\n"
     ]
    },
    {
     "ename": "KeyboardInterrupt",
     "evalue": "",
     "output_type": "error",
     "traceback": [
      "\u001b[0;31m---------------------------------------------------------------------------\u001b[0m",
      "\u001b[0;31mKeyboardInterrupt\u001b[0m                         Traceback (most recent call last)",
      "\u001b[0;32m<ipython-input-82-b589589cec2a>\u001b[0m in \u001b[0;36m<module>\u001b[0;34m()\u001b[0m\n\u001b[1;32m      8\u001b[0m     \u001b[0mpt\u001b[0m \u001b[0;34m=\u001b[0m \u001b[0mpopend\u001b[0m\u001b[0;34m.\u001b[0m\u001b[0mtimeit\u001b[0m\u001b[0;34m(\u001b[0m\u001b[0mnumber\u001b[0m\u001b[0;34m=\u001b[0m\u001b[0;36m1000\u001b[0m\u001b[0;34m)\u001b[0m\u001b[0;34m\u001b[0m\u001b[0m\n\u001b[1;32m      9\u001b[0m     \u001b[0mx\u001b[0m \u001b[0;34m=\u001b[0m \u001b[0mlist\u001b[0m\u001b[0;34m(\u001b[0m\u001b[0mrange\u001b[0m\u001b[0;34m(\u001b[0m\u001b[0mi\u001b[0m\u001b[0;34m)\u001b[0m\u001b[0;34m)\u001b[0m\u001b[0;34m\u001b[0m\u001b[0m\n\u001b[0;32m---> 10\u001b[0;31m     \u001b[0mpz\u001b[0m \u001b[0;34m=\u001b[0m \u001b[0mpopzero\u001b[0m\u001b[0;34m.\u001b[0m\u001b[0mtimeit\u001b[0m\u001b[0;34m(\u001b[0m\u001b[0mnumber\u001b[0m\u001b[0;34m=\u001b[0m\u001b[0;36m1000\u001b[0m\u001b[0;34m)\u001b[0m\u001b[0;34m\u001b[0m\u001b[0m\n\u001b[0m\u001b[1;32m     11\u001b[0m     \u001b[0mprint\u001b[0m\u001b[0;34m(\u001b[0m\u001b[0;34m\"%15.5f, %15.5f\"\u001b[0m \u001b[0;34m%\u001b[0m\u001b[0;34m(\u001b[0m\u001b[0mpz\u001b[0m\u001b[0;34m,\u001b[0m\u001b[0mpt\u001b[0m\u001b[0;34m)\u001b[0m\u001b[0;34m)\u001b[0m\u001b[0;34m\u001b[0m\u001b[0m\n",
      "\u001b[0;32m//anaconda/lib/python3.5/timeit.py\u001b[0m in \u001b[0;36mtimeit\u001b[0;34m(self, number)\u001b[0m\n\u001b[1;32m    176\u001b[0m         \u001b[0mgc\u001b[0m\u001b[0;34m.\u001b[0m\u001b[0mdisable\u001b[0m\u001b[0;34m(\u001b[0m\u001b[0;34m)\u001b[0m\u001b[0;34m\u001b[0m\u001b[0m\n\u001b[1;32m    177\u001b[0m         \u001b[0;32mtry\u001b[0m\u001b[0;34m:\u001b[0m\u001b[0;34m\u001b[0m\u001b[0m\n\u001b[0;32m--> 178\u001b[0;31m             \u001b[0mtiming\u001b[0m \u001b[0;34m=\u001b[0m \u001b[0mself\u001b[0m\u001b[0;34m.\u001b[0m\u001b[0minner\u001b[0m\u001b[0;34m(\u001b[0m\u001b[0mit\u001b[0m\u001b[0;34m,\u001b[0m \u001b[0mself\u001b[0m\u001b[0;34m.\u001b[0m\u001b[0mtimer\u001b[0m\u001b[0;34m)\u001b[0m\u001b[0;34m\u001b[0m\u001b[0m\n\u001b[0m\u001b[1;32m    179\u001b[0m         \u001b[0;32mfinally\u001b[0m\u001b[0;34m:\u001b[0m\u001b[0;34m\u001b[0m\u001b[0m\n\u001b[1;32m    180\u001b[0m             \u001b[0;32mif\u001b[0m \u001b[0mgcold\u001b[0m\u001b[0;34m:\u001b[0m\u001b[0;34m\u001b[0m\u001b[0m\n",
      "\u001b[0;32m//anaconda/lib/python3.5/timeit.py\u001b[0m in \u001b[0;36minner\u001b[0;34m(_it, _timer)\u001b[0m\n",
      "\u001b[0;31mKeyboardInterrupt\u001b[0m: "
     ]
    }
   ],
   "source": [
    "popzero = ti.Timer(\"x.pop(0)\",\n",
    "                \"from __main__ import x\")\n",
    "popend = ti.Timer(\"x.pop()\",\n",
    "               \"from __main__ import x\")\n",
    "print(\"pop(0)   pop()\")\n",
    "for i in range(1000000,100000001,1000000):\n",
    "    x = list(range(i))\n",
    "    pt = popend.timeit(number=1000)\n",
    "    x = list(range(i))\n",
    "    pz = popzero.timeit(number=1000)\n",
    "    print(\"%15.5f, %15.5f\" %(pz,pt))\n"
   ]
  },
  {
   "cell_type": "markdown",
   "metadata": {},
   "source": [
    "# Dictionaries"
   ]
  },
  {
   "cell_type": "code",
   "execution_count": 87,
   "metadata": {
    "collapsed": true
   },
   "outputs": [],
   "source": [
    "import random\n",
    "import timeit\n",
    "i = 50\n",
    "x = {j:None for j in range(i)}"
   ]
  },
  {
   "cell_type": "code",
   "execution_count": 89,
   "metadata": {
    "collapsed": false
   },
   "outputs": [
    {
     "name": "stdout",
     "output_type": "stream",
     "text": [
      "10000,     0.120,     0.002\n",
      "210000,     2.272,     0.002\n",
      "410000,     4.338,     0.002\n",
      "610000,     6.173,     0.002\n",
      "810000,     8.498,     0.002\n"
     ]
    }
   ],
   "source": [
    "for i in range(10000,1000001,200000):\n",
    "    t = timeit.Timer(\"random.randrange(%d) in x\"%i,\n",
    "                     \"from __main__ import random,x\")\n",
    "    x = list(range(i))\n",
    "    lst_time = t.timeit(number=1000)\n",
    "    x = {j:None for j in range(i)}\n",
    "    d_time = t.timeit(number=1000)\n",
    "    print(\"%d,%10.3f,%10.3f\" % (i, lst_time, d_time))\n"
   ]
  },
  {
   "cell_type": "code",
   "execution_count": null,
   "metadata": {
    "collapsed": true
   },
   "outputs": [],
   "source": []
  }
 ],
 "metadata": {
  "anaconda-cloud": {},
  "kernelspec": {
   "display_name": "Python 3",
   "language": "python",
   "name": "python3"
  },
  "language_info": {
   "codemirror_mode": {
    "name": "ipython",
    "version": 3
   },
   "file_extension": ".py",
   "mimetype": "text/x-python",
   "name": "python",
   "nbconvert_exporter": "python",
   "pygments_lexer": "ipython3",
   "version": "3.5.2"
  }
 },
 "nbformat": 4,
 "nbformat_minor": 1
}
