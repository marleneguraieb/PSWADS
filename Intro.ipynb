{
 "cells": [
  {
   "cell_type": "markdown",
   "metadata": {},
   "source": [
    "# Lists"
   ]
  },
  {
   "cell_type": "code",
   "execution_count": 1,
   "metadata": {
    "collapsed": false
   },
   "outputs": [
    {
     "name": "stdout",
     "output_type": "stream",
     "text": [
      "[1024, 3, True, 6.5, False]\n",
      "[1024, 3, 4.5, True, 6.5, False]\n",
      "False\n",
      "[1024, 3, 4.5, True, 6.5]\n",
      "3\n",
      "[1024, 4.5, True, 6.5]\n",
      "[1024, 4.5, 6.5]\n",
      "[4.5, 6.5, 1024]\n",
      "[1024, 6.5, 4.5]\n",
      "1\n",
      "2\n",
      "[1024, 4.5]\n",
      "[4.5]\n"
     ]
    }
   ],
   "source": [
    "myList = [1024, 3, True, 6.5]\n",
    "myList.append(False) #adds false to last element of list\n",
    "myList.insert(2,4.5) #inserts 4.5 in index 2\n",
    "print(myList.pop()) # removes and returns the last item in the list\n",
    "print(myList.pop(1))# removes and returns the item in index 1\n",
    "myList.sort() #sorts the list\n",
    "myList.reverse() #reverses the list\n",
    "print(myList.count(6.5))# returns the number of times 6.5 appears in list\n",
    "print(myList.index(4.5))# returns the index of the first occurence of 4.5\n",
    "myList.remove(6.5) # removes the first occurence of 6.5\n",
    "del myList[0] #deletes the item in the first postition\n",
    "print(myList)"
   ]
  },
  {
   "cell_type": "code",
   "execution_count": 6,
   "metadata": {
    "collapsed": false
   },
   "outputs": [
    {
     "name": "stdout",
     "output_type": "stream",
     "text": [
      "None\n"
     ]
    }
   ],
   "source": [
    "print(myList.sort()) #sort modifies the list, you can't print and modify at the sme time"
   ]
  },
  {
   "cell_type": "code",
   "execution_count": 7,
   "metadata": {
    "collapsed": false
   },
   "outputs": [
    {
     "name": "stdout",
     "output_type": "stream",
     "text": [
      "[True, 3, 6.5, 1024]\n"
     ]
    }
   ],
   "source": [
    "print(myList) #however, it did sort it, if you print it you can see"
   ]
  },
  {
   "cell_type": "code",
   "execution_count": 8,
   "metadata": {
    "collapsed": true
   },
   "outputs": [],
   "source": [
    "del myList[0]"
   ]
  },
  {
   "cell_type": "code",
   "execution_count": 9,
   "metadata": {
    "collapsed": false
   },
   "outputs": [
    {
     "name": "stdout",
     "output_type": "stream",
     "text": [
      "[3, 6.5, 1024]\n"
     ]
    }
   ],
   "source": [
    "print(myList)"
   ]
  },
  {
   "cell_type": "code",
   "execution_count": 10,
   "metadata": {
    "collapsed": false
   },
   "outputs": [
    {
     "data": {
      "text/plain": [
       "75"
      ]
     },
     "execution_count": 10,
     "metadata": {},
     "output_type": "execute_result"
    }
   ],
   "source": [
    "(54).__add__(21) #you can invoke methods on numbers!"
   ]
  },
  {
   "cell_type": "code",
   "execution_count": 11,
   "metadata": {
    "collapsed": false
   },
   "outputs": [
    {
     "data": {
      "text/plain": [
       "[10, 9, 8, 7, 6, 5, 4, 3, 2]"
      ]
     },
     "execution_count": 11,
     "metadata": {},
     "output_type": "execute_result"
    }
   ],
   "source": [
    "list(range(10,1,-1)) #range from 10 to 1 in reverse order, make it a list"
   ]
  },
  {
   "cell_type": "code",
   "execution_count": 13,
   "metadata": {
    "collapsed": false
   },
   "outputs": [
    {
     "data": {
      "text/plain": [
       "[5, 7, 9]"
      ]
     },
     "execution_count": 13,
     "metadata": {},
     "output_type": "execute_result"
    }
   ],
   "source": [
    "list(range(5,10,2))"
   ]
  },
  {
   "cell_type": "markdown",
   "metadata": {},
   "source": [
    "# Strings"
   ]
  },
  {
   "cell_type": "code",
   "execution_count": 14,
   "metadata": {
    "collapsed": false
   },
   "outputs": [
    {
     "data": {
      "text/plain": [
       "7"
      ]
     },
     "execution_count": 14,
     "metadata": {},
     "output_type": "execute_result"
    }
   ],
   "source": [
    "myName= 'Marlene'\n",
    "myName[3]#you can get subsets of strings with indexes\n",
    "myName*2#you can also duplciate strings, this will produce MarleneMarlene\n",
    "len(myName)#this is how you get length"
   ]
  },
  {
   "cell_type": "code",
   "execution_count": 23,
   "metadata": {
    "collapsed": false
   },
   "outputs": [
    {
     "data": {
      "text/plain": [
       "['Ma', 'lene']"
      ]
     },
     "execution_count": 23,
     "metadata": {},
     "output_type": "execute_result"
    }
   ],
   "source": [
    "myName.upper()# gives you all uppercase\n",
    "myName.center(10)#gets you my name in a field of size 10 (this one has one space on the right and two on the left)\n",
    "myName.find('r')#index of first ocurrence\n",
    "myName.split('r')"
   ]
  },
  {
   "cell_type": "markdown",
   "metadata": {},
   "source": [
    "A major difference between lists and strings is that lists can be modified while strings cannot. This is referred to as mutability. Lists are mutable, strings are immutable. Tuples are like lists, but they are immutable. They're written as    \n",
    "``myTuple = (2,True,4.96)``"
   ]
  },
  {
   "cell_type": "markdown",
   "metadata": {},
   "source": [
    "# Sets"
   ]
  },
  {
   "cell_type": "code",
   "execution_count": 40,
   "metadata": {
    "collapsed": false
   },
   "outputs": [],
   "source": [
    "mySet = {False,4.5,3,6,'cat'} #define a set\n",
    "mySet2 = {'Hola'}\n",
    "6 in mySet #boolean for is 6 in my set?\n",
    "union = mySet | mySet2 \n",
    "intersection = mySet & mySet2\n",
    "first_but_not_second = mySet - mySet2\n",
    "mySet <= mySet2 #asks whether all elements of the first set are in the second\n",
    "mySet.add(8)\n",
    "mySet.remove(8)\n",
    "mySet.pop() #note that there is no last element of a set (they're unordered), so it just removes an arbitrary element\n",
    "mySet.clear() #gets rid of the elements and returns the emptyset"
   ]
  },
  {
   "cell_type": "markdown",
   "metadata": {},
   "source": [
    "# Dictionaries"
   ]
  },
  {
   "cell_type": "code",
   "execution_count": 47,
   "metadata": {
    "collapsed": false
   },
   "outputs": [
    {
     "name": "stdout",
     "output_type": "stream",
     "text": [
      "DesMoines\n",
      "DesMoines is the capital of Iowa\n",
      "Madison is the capital of Wisconsin\n",
      "SaltLake is the capital of Utah\n"
     ]
    }
   ],
   "source": [
    "capitals = {'Iowa':'DesMoines','Wisconsin':'Madison'}\n",
    "print(capitals['Iowa'])# insead of using the index of the item you use the key value\n",
    "capitals['Utah']='SaltLake'\n",
    "for k in capitals:\n",
    "        print(capitals[k],'is the capital of', k)"
   ]
  },
  {
   "cell_type": "code",
   "execution_count": 63,
   "metadata": {
    "collapsed": false
   },
   "outputs": [
    {
     "data": {
      "text/plain": [
       "'No entry'"
      ]
     },
     "execution_count": 63,
     "metadata": {},
     "output_type": "execute_result"
    }
   ],
   "source": [
    "phoneext={'david':1410,'brad':1137} \n",
    "phoneext.keys() #gives you the keys to dict\n",
    "phoneext.values() #gives you all the values\n",
    "phoneext.items() #gives yo all the items\n",
    "phoneext['david']\n",
    "'david' in phoneext\n",
    "del phoneext['david']\n",
    "phoneext.get('brad')\n",
    "phoneext.get('kent','No entry')"
   ]
  },
  {
   "cell_type": "code",
   "execution_count": 61,
   "metadata": {
    "collapsed": false
   },
   "outputs": [
    {
     "data": {
      "text/plain": [
       "{'brad': 1137}"
      ]
     },
     "execution_count": 61,
     "metadata": {},
     "output_type": "execute_result"
    }
   ],
   "source": [
    "phoneext"
   ]
  },
  {
   "cell_type": "markdown",
   "metadata": {},
   "source": [
    "# Input and output"
   ]
  },
  {
   "cell_type": "markdown",
   "metadata": {},
   "source": [
    "Python’s input function takes a single parameter that is a string. This string is often called the prompt because it contains some helpful text prompting the user to enter something. Input is always a string, if you want something else, you have to convert it."
   ]
  },
  {
   "cell_type": "code",
   "execution_count": 68,
   "metadata": {
    "collapsed": false
   },
   "outputs": [
    {
     "name": "stdout",
     "output_type": "stream",
     "text": [
      "Please enter your name Marlene\n",
      "Your name in all capitals is: MARLENE and has length 7\n"
     ]
    }
   ],
   "source": [
    "aName = input(\"Please enter your name \")\n",
    "print(\"Your name in all capitals is:\",aName.upper(),\n",
    "      \"and has length\", len(aName))"
   ]
  },
  {
   "cell_type": "code",
   "execution_count": 69,
   "metadata": {
    "collapsed": false
   },
   "outputs": [
    {
     "name": "stdout",
     "output_type": "stream",
     "text": [
      "Please enter the radius of the circle: 3.2\n",
      "6.4\n"
     ]
    }
   ],
   "source": [
    "sradius = input(\"Please enter the radius of the circle: \")\n",
    "radius = float(sradius)\n",
    "diameter = 2 * radius\n",
    "print(diameter)"
   ]
  },
  {
   "cell_type": "markdown",
   "metadata": {},
   "source": [
    "# String formatting"
   ]
  },
  {
   "cell_type": "code",
   "execution_count": 74,
   "metadata": {
    "collapsed": false
   },
   "outputs": [
    {
     "name": "stdout",
     "output_type": "stream",
     "text": [
      "Marlene is 23 years old.\n"
     ]
    }
   ],
   "source": [
    "aName = 'Marlene'\n",
    "age = 23\n",
    "print(\"%s is %d years old.\" % (aName, age)) "
   ]
  },
  {
   "cell_type": "markdown",
   "metadata": {},
   "source": [
    "# Control structures"
   ]
  },
  {
   "cell_type": "code",
   "execution_count": 76,
   "metadata": {
    "collapsed": false
   },
   "outputs": [
    {
     "name": "stdout",
     "output_type": "stream",
     "text": [
      "['c', 'a', 't', 'd', 'o', 'g', 'r', 'a', 'b', 'b', 'i', 't']\n"
     ]
    }
   ],
   "source": [
    "wordlist = ['cat','dog','rabbit']\n",
    "letterlist = [ ]\n",
    "for aword in wordlist:\n",
    "    for aletter in aword:\n",
    "        letterlist.append(aletter)\n",
    "print(letterlist)"
   ]
  },
  {
   "cell_type": "code",
   "execution_count": 81,
   "metadata": {
    "collapsed": false
   },
   "outputs": [
    {
     "name": "stdout",
     "output_type": "stream",
     "text": [
      "['c', 'a', 't', 'd', 'o', 'g', 'r', 'b', 'i']\n"
     ]
    }
   ],
   "source": [
    "wordlist = ['cat','dog','rabbit']\n",
    "letterlist = [ ]\n",
    "for aword in wordlist:\n",
    "    for aletter in aword:\n",
    "        if aletter not in letterlist:\n",
    "            letterlist.append(aletter)\n",
    "print(letterlist)"
   ]
  },
  {
   "cell_type": "code",
   "execution_count": 78,
   "metadata": {
    "collapsed": true
   },
   "outputs": [],
   "source": [
    "import math"
   ]
  },
  {
   "cell_type": "code",
   "execution_count": 80,
   "metadata": {
    "collapsed": false
   },
   "outputs": [
    {
     "name": "stdout",
     "output_type": "stream",
     "text": [
      "Enter a number-2\n",
      "Sorry, value is negative\n"
     ]
    }
   ],
   "source": [
    "nt = input(\"Enter a number\")\n",
    "n = float(nt)\n",
    "if n<0:\n",
    "   print(\"Sorry, value is negative\")\n",
    "else:\n",
    "   print(math.sqrt(n))"
   ]
  },
  {
   "cell_type": "markdown",
   "metadata": {},
   "source": [
    "# List comprehension"
   ]
  },
  {
   "cell_type": "code",
   "execution_count": 84,
   "metadata": {
    "collapsed": true
   },
   "outputs": [],
   "source": [
    "sqlist = [x*x for x in range(1,11) if x%2 !=0]"
   ]
  },
  {
   "cell_type": "code",
   "execution_count": 127,
   "metadata": {
    "collapsed": false
   },
   "outputs": [
    {
     "data": {
      "text/plain": [
       "['C', 'M', 'P', 'R', 'H', 'N', 'S', 'N']"
      ]
     },
     "execution_count": 127,
     "metadata": {},
     "output_type": "execute_result"
    }
   ],
   "source": [
    "[ch.upper() for ch in 'comprehension' if ch not in 'aeiou']"
   ]
  },
  {
   "cell_type": "code",
   "execution_count": 101,
   "metadata": {
    "collapsed": false
   },
   "outputs": [
    {
     "name": "stdout",
     "output_type": "stream",
     "text": [
      "['c', 'a', 't', 'd', 'o', 'g', 'r', 'a', 'b', 'b', 'i', 't']\n",
      "['c', 'a', 't', 'd', 'o', 'g', 'r', 'a', 'b', 'b', 'i', 't']\n",
      "['g', 'o', 'i', 't', 'c', 'r', 'd', 'a', 'b']\n"
     ]
    }
   ],
   "source": [
    "wordlist = ['cat','dog','rabbit']\n",
    "print ([ch for ch in ''.join(wordlist)])\n",
    "print([word[i] for word in wordlist for i in range(len(word))])\n",
    "print(list(set([word[i] for word in wordlist for i in range(len(word))])))"
   ]
  },
  {
   "cell_type": "markdown",
   "metadata": {},
   "source": [
    "# Exception handling"
   ]
  },
  {
   "cell_type": "code",
   "execution_count": 104,
   "metadata": {
    "collapsed": false
   },
   "outputs": [
    {
     "name": "stdout",
     "output_type": "stream",
     "text": [
      "Please enter an integer -23\n",
      "Bad Value for square root\n",
      "Using absolute value instead\n",
      "4.795831523312719\n"
     ]
    }
   ],
   "source": [
    "anumber = int(input(\"Please enter an integer \"))\n",
    "try:\n",
    "    print(math.sqrt(anumber))\n",
    "except:\n",
    "    print(\"Bad Value for square root\")\n",
    "    print(\"Using absolute value instead\")\n",
    "    print(math.sqrt(abs(anumber)))"
   ]
  },
  {
   "cell_type": "code",
   "execution_count": 105,
   "metadata": {
    "collapsed": false
   },
   "outputs": [
    {
     "ename": "RuntimeError",
     "evalue": "You can't use a negative number",
     "output_type": "error",
     "traceback": [
      "\u001b[0;31m---------------------------------------------------------------------------\u001b[0m",
      "\u001b[0;31mRuntimeError\u001b[0m                              Traceback (most recent call last)",
      "\u001b[0;32m<ipython-input-105-c2dee6db69a9>\u001b[0m in \u001b[0;36m<module>\u001b[0;34m()\u001b[0m\n\u001b[1;32m      1\u001b[0m \u001b[0;32mif\u001b[0m \u001b[0manumber\u001b[0m \u001b[0;34m<\u001b[0m \u001b[0;36m0\u001b[0m\u001b[0;34m:\u001b[0m\u001b[0;34m\u001b[0m\u001b[0m\n\u001b[0;32m----> 2\u001b[0;31m     \u001b[0;32mraise\u001b[0m \u001b[0mRuntimeError\u001b[0m\u001b[0;34m(\u001b[0m\u001b[0;34m\"You can't use a negative number\"\u001b[0m\u001b[0;34m)\u001b[0m\u001b[0;34m\u001b[0m\u001b[0m\n\u001b[0m\u001b[1;32m      3\u001b[0m \u001b[0;32melse\u001b[0m\u001b[0;34m:\u001b[0m\u001b[0;34m\u001b[0m\u001b[0m\n\u001b[1;32m      4\u001b[0m     \u001b[0mprint\u001b[0m\u001b[0;34m(\u001b[0m\u001b[0mmath\u001b[0m\u001b[0;34m.\u001b[0m\u001b[0msqrt\u001b[0m\u001b[0;34m(\u001b[0m\u001b[0manumber\u001b[0m\u001b[0;34m)\u001b[0m\u001b[0;34m)\u001b[0m\u001b[0;34m\u001b[0m\u001b[0m\n",
      "\u001b[0;31mRuntimeError\u001b[0m: You can't use a negative number"
     ]
    }
   ],
   "source": [
    "if anumber < 0:\n",
    "    raise RuntimeError(\"You can't use a negative number\")\n",
    "else:\n",
    "    print(math.sqrt(anumber))"
   ]
  },
  {
   "cell_type": "markdown",
   "metadata": {},
   "source": [
    "# Functions"
   ]
  },
  {
   "cell_type": "markdown",
   "metadata": {},
   "source": [
    "Newton's method for approximating a square root'"
   ]
  },
  {
   "cell_type": "code",
   "execution_count": 106,
   "metadata": {
    "collapsed": true
   },
   "outputs": [],
   "source": [
    "def squareroot(n):\n",
    "    root = n/2    #initial guess will be 1/2 of n\n",
    "    for k in range(20):\n",
    "        root = (1/2)*(root + (n / root))\n",
    "\n",
    "    return root"
   ]
  },
  {
   "cell_type": "code",
   "execution_count": 107,
   "metadata": {
    "collapsed": false
   },
   "outputs": [
    {
     "data": {
      "text/plain": [
       "11.31370849898476"
      ]
     },
     "execution_count": 107,
     "metadata": {},
     "output_type": "execute_result"
    }
   ],
   "source": [
    "squareroot(128)"
   ]
  },
  {
   "cell_type": "markdown",
   "metadata": {},
   "source": [
    "See monkey.py for exercise on randomly generating a sentence via functions and fo loops."
   ]
  },
  {
   "cell_type": "markdown",
   "metadata": {},
   "source": [
    "# Defining classes"
   ]
  },
  {
   "cell_type": "markdown",
   "metadata": {},
   "source": [
    "self is a special parameter that will always be used as a reference back to the object itself . \n",
    "It must always be the first formal parameter; however, it will never be given an actual parameter value upon invocation. "
   ]
  },
  {
   "cell_type": "code",
   "execution_count": 165,
   "metadata": {
    "collapsed": true
   },
   "outputs": [],
   "source": [
    "class Fraction:\n",
    "    def __init__(self,top,bottom): \n",
    "        self.num = top\n",
    "        self.den = bottom\n",
    "    def show(self):\n",
    "        print(str(self.num)+'/'+str(self.den))"
   ]
  },
  {
   "cell_type": "code",
   "execution_count": 149,
   "metadata": {
    "collapsed": false
   },
   "outputs": [
    {
     "name": "stdout",
     "output_type": "stream",
     "text": [
      "<__main__.Fraction object at 0x104847dd8>\n"
     ]
    }
   ],
   "source": [
    "myf = Fraction(3,5)\n",
    "print(myf)"
   ]
  },
  {
   "cell_type": "code",
   "execution_count": 145,
   "metadata": {
    "collapsed": false
   },
   "outputs": [
    {
     "data": {
      "text/plain": [
       "'y'"
      ]
     },
     "execution_count": 145,
     "metadata": {},
     "output_type": "execute_result"
    }
   ],
   "source": [
    "Fraction(3,'y').den"
   ]
  },
  {
   "cell_type": "markdown",
   "metadata": {},
   "source": [
    "You've defined an object called fraction that has a .den and a .num internal objects. But it doesn't know they're numbers and it can't print it because it doesn't know what to print. We can fix it by defining a method called ``show`` that will allow the object to print itself as a string "
   ]
  },
  {
   "cell_type": "code",
   "execution_count": 161,
   "metadata": {
    "collapsed": true
   },
   "outputs": [],
   "source": [
    "def show(self):\n",
    "    print(str(self.num)+'/'+str(self.den))"
   ]
  },
  {
   "cell_type": "code",
   "execution_count": 166,
   "metadata": {
    "collapsed": false
   },
   "outputs": [
    {
     "name": "stdout",
     "output_type": "stream",
     "text": [
      "3/5\n",
      "<__main__.Fraction object at 0x104859898>\n"
     ]
    }
   ],
   "source": [
    "myf = Fraction(3,5)\n",
    "myf.show()\n",
    "print(myf)"
   ]
  },
  {
   "cell_type": "code",
   "execution_count": 172,
   "metadata": {
    "collapsed": false
   },
   "outputs": [],
   "source": [
    "class Fraction:\n",
    "    def __init__(self,top,bottom): \n",
    "        self.num = top\n",
    "        self.den = bottom\n",
    "    def __str__(self):\n",
    "        return str(self.num)+\"/\"+str(self.den)\n",
    "    def __add__(self,otherfraction):\n",
    "     newnum = self.num*otherfraction.den + self.den*otherfraction.num\n",
    "     newden = self.den * otherfraction.den\n",
    "     return Fraction(newnum,newden)"
   ]
  },
  {
   "cell_type": "code",
   "execution_count": 168,
   "metadata": {
    "collapsed": true
   },
   "outputs": [],
   "source": [
    "myf = Fraction(3,5)"
   ]
  },
  {
   "cell_type": "code",
   "execution_count": 169,
   "metadata": {
    "collapsed": false
   },
   "outputs": [
    {
     "name": "stdout",
     "output_type": "stream",
     "text": [
      "3/5\n"
     ]
    }
   ],
   "source": [
    "print(myf)"
   ]
  },
  {
   "cell_type": "code",
   "execution_count": 171,
   "metadata": {
    "collapsed": false
   },
   "outputs": [
    {
     "data": {
      "text/plain": [
       "'3/5'"
      ]
     },
     "execution_count": 171,
     "metadata": {},
     "output_type": "execute_result"
    }
   ],
   "source": [
    "myf.__str__()\n",
    "str(myf)"
   ]
  },
  {
   "cell_type": "code",
   "execution_count": 174,
   "metadata": {
    "collapsed": false
   },
   "outputs": [
    {
     "name": "stdout",
     "output_type": "stream",
     "text": [
      "13/20\n"
     ]
    }
   ],
   "source": [
    "print(Fraction(1,4)+Fraction(2,5))"
   ]
  },
  {
   "cell_type": "code",
   "execution_count": 177,
   "metadata": {
    "collapsed": false
   },
   "outputs": [
    {
     "name": "stdout",
     "output_type": "stream",
     "text": [
      "1\n"
     ]
    }
   ],
   "source": [
    "def gcd(m,n):\n",
    "    while m%n != 0:\n",
    "        oldm = m\n",
    "        oldn = n\n",
    "\n",
    "        m = oldn\n",
    "        n = oldm%oldn\n",
    "    return n\n",
    "\n",
    "\n",
    "print(gcd(21,10))"
   ]
  },
  {
   "cell_type": "code",
   "execution_count": 181,
   "metadata": {
    "collapsed": true
   },
   "outputs": [],
   "source": [
    "class Fraction:\n",
    "    def __init__(self,top,bottom): \n",
    "        self.num = top\n",
    "        self.den = bottom\n",
    "    def __str__(self):\n",
    "        return str(self.num)+\"/\"+str(self.den)\n",
    "    def __add__(self,otherfraction):\n",
    "     newnum = self.num*otherfraction.den + self.den*otherfraction.num\n",
    "     newden = self.den * otherfraction.den\n",
    "     common = gcd(newnum,newden)\n",
    "     return Fraction(int(newnum/common),int(newden/common))"
   ]
  },
  {
   "cell_type": "code",
   "execution_count": 182,
   "metadata": {
    "collapsed": false
   },
   "outputs": [
    {
     "name": "stdout",
     "output_type": "stream",
     "text": [
      "3/4\n"
     ]
    }
   ],
   "source": [
    "f1 = Fraction(1,4)\n",
    "f2 = Fraction(1,2)\n",
    "f3 = f1+f2\n",
    "print(f3)"
   ]
  },
  {
   "cell_type": "code",
   "execution_count": 203,
   "metadata": {
    "collapsed": false
   },
   "outputs": [],
   "source": [
    "class Fraction:\n",
    "    def __init__(self,top,bottom): \n",
    "        self.num = top\n",
    "        self.den = bottom\n",
    "    def __str__(self):\n",
    "        return str(self.num)+\"/\"+str(self.den)\n",
    "    def __add__(self,otherfraction):\n",
    "        newnum = self.num*otherfraction.den + self.den*otherfraction.num\n",
    "        newden = self.den * otherfraction.den\n",
    "        common = gcd(newnum,newden)\n",
    "        return Fraction(int(newnum/common),int(newden/common))\n",
    "    def __sub__(self,otherfraction):\n",
    "        newnum = self.num*otherfraction.den - self.den*otherfraction.num\n",
    "        newden = self.den * otherfraction.den\n",
    "        common = gcd(newnum,newden)\n",
    "        return Fraction(newnum//common,newden//common)\n",
    "    def __mul__(self,otherfraction):\n",
    "        newnum = self.num * otherfraction.num\n",
    "        newden = self.den * otherfraction.den\n",
    "        common = gcd(newnum,newden)\n",
    "        return Fraction(newnum//common,newden//common)\n",
    "    def __truediv__(self,otherfraction):\n",
    "        newnum = self.num * otherfraction.den\n",
    "        newden = self.den * otherfraction.num\n",
    "        common = gcd(newnum,newden)\n",
    "        return Fraction(newnum//common,newden//common)\n",
    "    def __eq__(self, other):\n",
    "        firstnum = self.num * other.den\n",
    "        secondnum = other.num * self.den\n",
    "        return firstnum == secondnum\n",
    "    def __lt__(self, other):\n",
    "        firstnum = self.num * other.den\n",
    "        secondnum = other.num * self.den\n",
    "        return firstnum < secondnum"
   ]
  },
  {
   "cell_type": "code",
   "execution_count": 205,
   "metadata": {
    "collapsed": false
   },
   "outputs": [
    {
     "name": "stdout",
     "output_type": "stream",
     "text": [
      "False\n"
     ]
    }
   ],
   "source": [
    "x = Fraction(1,2)\n",
    "y = Fraction(2,3)\n",
    "print(x>y)"
   ]
  },
  {
   "cell_type": "markdown",
   "metadata": {},
   "source": [
    "# Inheritance"
   ]
  },
  {
   "cell_type": "code",
   "execution_count": 206,
   "metadata": {
    "collapsed": true
   },
   "outputs": [],
   "source": [
    "class LogicGate:\n",
    "\n",
    "    def __init__(self,n):\n",
    "        self.name = n\n",
    "        self.output = None\n",
    "\n",
    "    def getName(self):\n",
    "        return self.name\n",
    "\n",
    "    def getOutput(self):\n",
    "        self.output = self.performGateLogic()\n",
    "        return self.output"
   ]
  },
  {
   "cell_type": "code",
   "execution_count": 207,
   "metadata": {
    "collapsed": true
   },
   "outputs": [],
   "source": [
    "class BinaryGate(LogicGate):\n",
    "\n",
    "    def __init__(self,n):\n",
    "        LogicGate.__init__(self,n)\n",
    "\n",
    "        self.pinA = None\n",
    "        self.pinB = None\n",
    "\n",
    "    def getPinA(self):\n",
    "        if self.pinA == None:\n",
    "            return int(input(\"Enter Pin A input for gate \"+self.getName()+\"-->\"))\n",
    "        else:\n",
    "            return self.pinA.getFrom().getOutput()\n",
    "\n",
    "    def getPinB(self):\n",
    "        if self.pinB == None:\n",
    "            return int(input(\"Enter Pin B input for gate \"+self.getName()+\"-->\"))\n",
    "        else:\n",
    "            return self.pinB.getFrom().getOutput()\n",
    "\n",
    "    def setNextPin(self,source):\n",
    "        if self.pinA == None:\n",
    "            self.pinA = source\n",
    "        else:\n",
    "            if self.pinB == None:\n",
    "                self.pinB = source\n",
    "            else:\n",
    "                print(\"Cannot Connect: NO EMPTY PINS on this gate\")"
   ]
  },
  {
   "cell_type": "code",
   "execution_count": 208,
   "metadata": {
    "collapsed": true
   },
   "outputs": [],
   "source": [
    "class AndGate(BinaryGate):\n",
    "\n",
    "    def __init__(self,n):\n",
    "        BinaryGate.__init__(self,n)\n",
    "\n",
    "    def performGateLogic(self):\n",
    "\n",
    "        a = self.getPinA()\n",
    "        b = self.getPinB()\n",
    "        if a==1 and b==1:\n",
    "            return 1\n",
    "        else:\n",
    "            return 0"
   ]
  },
  {
   "cell_type": "code",
   "execution_count": 209,
   "metadata": {
    "collapsed": true
   },
   "outputs": [],
   "source": [
    "class OrGate(BinaryGate):\n",
    "\n",
    "    def __init__(self,n):\n",
    "        BinaryGate.__init__(self,n)\n",
    "\n",
    "    def performGateLogic(self):\n",
    "\n",
    "        a = self.getPinA()\n",
    "        b = self.getPinB()\n",
    "        if a ==1 or b==1:\n",
    "            return 1\n",
    "        else:\n",
    "            return 0"
   ]
  },
  {
   "cell_type": "code",
   "execution_count": 210,
   "metadata": {
    "collapsed": true
   },
   "outputs": [],
   "source": [
    "class UnaryGate(LogicGate):\n",
    "\n",
    "    def __init__(self,n):\n",
    "        LogicGate.__init__(self,n)\n",
    "\n",
    "        self.pin = None\n",
    "\n",
    "    def getPin(self):\n",
    "        if self.pin == None:\n",
    "            return int(input(\"Enter Pin input for gate \"+self.getName()+\"-->\"))\n",
    "        else:\n",
    "            return self.pin.getFrom().getOutput()\n",
    "\n",
    "    def setNextPin(self,source):\n",
    "        if self.pin == None:\n",
    "            self.pin = source\n",
    "        else:\n",
    "            print(\"Cannot Connect: NO EMPTY PINS on this gate\")"
   ]
  },
  {
   "cell_type": "code",
   "execution_count": 211,
   "metadata": {
    "collapsed": true
   },
   "outputs": [],
   "source": [
    "class NotGate(UnaryGate):\n",
    "\n",
    "    def __init__(self,n):\n",
    "        UnaryGate.__init__(self,n)\n",
    "\n",
    "    def performGateLogic(self):\n",
    "        if self.getPin():\n",
    "            return 0\n",
    "        else:\n",
    "            return 1"
   ]
  },
  {
   "cell_type": "code",
   "execution_count": 212,
   "metadata": {
    "collapsed": true
   },
   "outputs": [],
   "source": [
    "class Connector:\n",
    "\n",
    "    def __init__(self, fgate, tgate):\n",
    "        self.fromgate = fgate\n",
    "        self.togate = tgate\n",
    "\n",
    "        tgate.setNextPin(self)\n",
    "\n",
    "    def getFrom(self):\n",
    "        return self.fromgate\n",
    "\n",
    "    def getTo(self):\n",
    "        return self.togate"
   ]
  },
  {
   "cell_type": "code",
   "execution_count": 213,
   "metadata": {
    "collapsed": true
   },
   "outputs": [],
   "source": [
    "def main():\n",
    "   g1 = AndGate(\"G1\")\n",
    "   g2 = AndGate(\"G2\")\n",
    "   g3 = OrGate(\"G3\")\n",
    "   g4 = NotGate(\"G4\")\n",
    "   c1 = Connector(g1,g3)\n",
    "   c2 = Connector(g2,g3)\n",
    "   c3 = Connector(g3,g4)\n",
    "   print(g4.getOutput())"
   ]
  },
  {
   "cell_type": "code",
   "execution_count": 217,
   "metadata": {
    "collapsed": false
   },
   "outputs": [
    {
     "name": "stdout",
     "output_type": "stream",
     "text": [
      "Enter Pin A input for gate G1-->9\n",
      "Enter Pin B input for gate G1-->7\n",
      "Enter Pin A input for gate G2-->1\n",
      "Enter Pin B input for gate G2-->0\n",
      "1\n"
     ]
    }
   ],
   "source": [
    "main()"
   ]
  },
  {
   "cell_type": "markdown",
   "metadata": {},
   "source": [
    "## Self check"
   ]
  },
  {
   "cell_type": "code",
   "execution_count": 222,
   "metadata": {
    "collapsed": true
   },
   "outputs": [],
   "source": [
    "class NAndGate(AndGate):\n",
    "    def performGateLogic(self):\n",
    "        if super().performGateLogic()==1:\n",
    "            return 0\n",
    "        else:\n",
    "            return 1"
   ]
  },
  {
   "cell_type": "code",
   "execution_count": 223,
   "metadata": {
    "collapsed": true
   },
   "outputs": [],
   "source": [
    "class NOrGate(OrGate):\n",
    "    def performGateLogic(self):\n",
    "        if super().performGateLogic()==1:\n",
    "            return 0\n",
    "        else:\n",
    "            return 1"
   ]
  },
  {
   "cell_type": "code",
   "execution_count": 229,
   "metadata": {
    "collapsed": true
   },
   "outputs": [],
   "source": [
    "def main():\n",
    "    g1 = AndGate('G1')\n",
    "    g2 = NAndGate('G2')\n",
    "    print(g2.getOutput())"
   ]
  },
  {
   "cell_type": "code",
   "execution_count": 230,
   "metadata": {
    "collapsed": false
   },
   "outputs": [
    {
     "name": "stdout",
     "output_type": "stream",
     "text": [
      "Enter Pin A input for gate G2-->1\n",
      "Enter Pin B input for gate G2-->0\n",
      "1\n"
     ]
    }
   ],
   "source": [
    "main()"
   ]
  },
  {
   "cell_type": "markdown",
   "metadata": {},
   "source": [
    "NOT (( A and B) or (C and D)) is that same as NOT( A and B ) and NOT (C and D)"
   ]
  },
  {
   "cell_type": "code",
   "execution_count": 232,
   "metadata": {
    "collapsed": true
   },
   "outputs": [],
   "source": [
    "def main(): #this is the first part\n",
    "   g1 = AndGate(\"G1\")\n",
    "   g2 = AndGate(\"G2\")\n",
    "   g3 = OrGate(\"G3\")\n",
    "   g4 = NotGate(\"G4\")\n",
    "   c1 = Connector(g1,g3)\n",
    "   c2 = Connector(g2,g3)\n",
    "   c3 = Connector(g3,g4)\n",
    "   print(g4.getOutput())"
   ]
  },
  {
   "cell_type": "code",
   "execution_count": 231,
   "metadata": {
    "collapsed": true
   },
   "outputs": [],
   "source": [
    "def main2():\n",
    "    g1 = AndGate('G1')\n",
    "    g2 = AndGate('G2')\n",
    "    g3 = NAndGate('G3')\n",
    "    g4 = NAndGate('G4')\n",
    "    g5 = AndGate('G5')\n",
    "    c1 = Connector(g3,g5)\n",
    "    c2 = Connector(g4,g5)\n",
    "    print(g5.getOutput())"
   ]
  },
  {
   "cell_type": "code",
   "execution_count": 233,
   "metadata": {
    "collapsed": false
   },
   "outputs": [
    {
     "name": "stdout",
     "output_type": "stream",
     "text": [
      "Enter Pin A input for gate G1-->1\n",
      "Enter Pin B input for gate G1-->0\n",
      "Enter Pin A input for gate G2-->1\n",
      "Enter Pin B input for gate G2-->0\n",
      "1\n"
     ]
    }
   ],
   "source": [
    "main()"
   ]
  },
  {
   "cell_type": "code",
   "execution_count": 234,
   "metadata": {
    "collapsed": false
   },
   "outputs": [
    {
     "name": "stdout",
     "output_type": "stream",
     "text": [
      "Enter Pin A input for gate G3-->1\n",
      "Enter Pin B input for gate G3-->0\n",
      "Enter Pin A input for gate G4-->1\n",
      "Enter Pin B input for gate G4-->0\n",
      "1\n"
     ]
    }
   ],
   "source": [
    "main2()"
   ]
  },
  {
   "cell_type": "markdown",
   "metadata": {},
   "source": [
    "## Summary\n",
    "\n",
    "+ Computer science is the study of problem solving.\n",
    "+ Computer science uses abstraction as a tool for representing both processes and data.\n",
    "+ Abstract data types allow programmers to manage the complexity of a problem domain by hiding the details of the data.\n",
    "+ Python is a powerful, yet easy-to-use, object-oriented language.\n",
    "+ Lists, tuples, and strings are built in Python sequential collections.\n",
    "+ Dictionaries and sets are nonsequential collections of data.\n",
    "+ Classes allow programmers to implement abstract data types.\n",
    "+ Programmers can override standard methods as well as create new methods.\n",
    "+ Classes can be organized into hierarchies.\n",
    "+ A class constructor should always invoke the constructor of its parent before continuing on with its own data and behavior.\n"
   ]
  },
  {
   "cell_type": "code",
   "execution_count": null,
   "metadata": {
    "collapsed": true
   },
   "outputs": [],
   "source": []
  }
 ],
 "metadata": {
  "anaconda-cloud": {},
  "kernelspec": {
   "display_name": "Python 3",
   "language": "python",
   "name": "python3"
  },
  "language_info": {
   "codemirror_mode": {
    "name": "ipython",
    "version": 3
   },
   "file_extension": ".py",
   "mimetype": "text/x-python",
   "name": "python",
   "nbconvert_exporter": "python",
   "pygments_lexer": "ipython3",
   "version": "3.5.2"
  }
 },
 "nbformat": 4,
 "nbformat_minor": 1
}
