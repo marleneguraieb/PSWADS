{
 "cells": [
  {
   "cell_type": "markdown",
   "metadata": {},
   "source": [
    "# Programming exercises"
   ]
  },
  {
   "cell_type": "code",
   "execution_count": 44,
   "metadata": {
    "collapsed": true
   },
   "outputs": [],
   "source": [
    "import timeit\n",
    "import random"
   ]
  },
  {
   "cell_type": "markdown",
   "metadata": {},
   "source": [
    "* Devise an experient to verivy that the list index operator is $O(1)$"
   ]
  },
  {
   "cell_type": "code",
   "execution_count": 99,
   "metadata": {
    "collapsed": false
   },
   "outputs": [
    {
     "name": "stdout",
     "output_type": "stream",
     "text": [
      "10000,     0.127\n",
      "30000,     0.332\n",
      "50000,     0.551\n",
      "70000,     0.771\n",
      "90000,     0.981\n",
      "110000,     1.199\n",
      "130000,     1.420\n",
      "150000,     1.612\n",
      "170000,     1.903\n",
      "190000,     2.056\n",
      "210000,     2.361\n",
      "230000,     2.816\n",
      "250000,     3.441\n",
      "270000,     3.051\n",
      "290000,     3.208\n",
      "310000,     3.317\n",
      "330000,     3.586\n",
      "350000,     3.792\n",
      "370000,     4.032\n",
      "390000,     4.641\n",
      "410000,     4.577\n",
      "430000,     5.026\n",
      "450000,     5.155\n",
      "470000,     5.304\n",
      "490000,     5.313\n",
      "510000,     5.747\n",
      "530000,     6.075\n",
      "550000,     6.339\n",
      "570000,     6.554\n",
      "590000,     7.065\n"
     ]
    },
    {
     "ename": "KeyboardInterrupt",
     "evalue": "",
     "output_type": "error",
     "traceback": [
      "\u001b[0;31m---------------------------------------------------------------------------\u001b[0m",
      "\u001b[0;31mKeyboardInterrupt\u001b[0m                         Traceback (most recent call last)",
      "\u001b[0;32m<ipython-input-99-169d83cd66e4>\u001b[0m in \u001b[0;36m<module>\u001b[0;34m()\u001b[0m\n\u001b[1;32m      3\u001b[0m                      \"from __main__ import random,x\")\n\u001b[1;32m      4\u001b[0m     \u001b[0mx\u001b[0m \u001b[0;34m=\u001b[0m \u001b[0mlist\u001b[0m\u001b[0;34m(\u001b[0m\u001b[0mrange\u001b[0m\u001b[0;34m(\u001b[0m\u001b[0mi\u001b[0m\u001b[0;34m)\u001b[0m\u001b[0;34m)\u001b[0m\u001b[0;34m\u001b[0m\u001b[0m\n\u001b[0;32m----> 5\u001b[0;31m     \u001b[0mlst_time\u001b[0m \u001b[0;34m=\u001b[0m \u001b[0mt\u001b[0m\u001b[0;34m.\u001b[0m\u001b[0mtimeit\u001b[0m\u001b[0;34m(\u001b[0m\u001b[0mnumber\u001b[0m\u001b[0;34m=\u001b[0m\u001b[0;36m1000\u001b[0m\u001b[0;34m)\u001b[0m\u001b[0;34m\u001b[0m\u001b[0m\n\u001b[0m\u001b[1;32m      6\u001b[0m     \u001b[0mprint\u001b[0m\u001b[0;34m(\u001b[0m\u001b[0;34m\"%d,%10.3f\"\u001b[0m \u001b[0;34m%\u001b[0m \u001b[0;34m(\u001b[0m\u001b[0mi\u001b[0m\u001b[0;34m,\u001b[0m \u001b[0mlst_time\u001b[0m\u001b[0;34m)\u001b[0m\u001b[0;34m)\u001b[0m\u001b[0;34m\u001b[0m\u001b[0m\n",
      "\u001b[0;32m//anaconda/lib/python3.5/timeit.py\u001b[0m in \u001b[0;36mtimeit\u001b[0;34m(self, number)\u001b[0m\n\u001b[1;32m    176\u001b[0m         \u001b[0mgc\u001b[0m\u001b[0;34m.\u001b[0m\u001b[0mdisable\u001b[0m\u001b[0;34m(\u001b[0m\u001b[0;34m)\u001b[0m\u001b[0;34m\u001b[0m\u001b[0m\n\u001b[1;32m    177\u001b[0m         \u001b[0;32mtry\u001b[0m\u001b[0;34m:\u001b[0m\u001b[0;34m\u001b[0m\u001b[0m\n\u001b[0;32m--> 178\u001b[0;31m             \u001b[0mtiming\u001b[0m \u001b[0;34m=\u001b[0m \u001b[0mself\u001b[0m\u001b[0;34m.\u001b[0m\u001b[0minner\u001b[0m\u001b[0;34m(\u001b[0m\u001b[0mit\u001b[0m\u001b[0;34m,\u001b[0m \u001b[0mself\u001b[0m\u001b[0;34m.\u001b[0m\u001b[0mtimer\u001b[0m\u001b[0;34m)\u001b[0m\u001b[0;34m\u001b[0m\u001b[0m\n\u001b[0m\u001b[1;32m    179\u001b[0m         \u001b[0;32mfinally\u001b[0m\u001b[0;34m:\u001b[0m\u001b[0;34m\u001b[0m\u001b[0m\n\u001b[1;32m    180\u001b[0m             \u001b[0;32mif\u001b[0m \u001b[0mgcold\u001b[0m\u001b[0;34m:\u001b[0m\u001b[0;34m\u001b[0m\u001b[0m\n",
      "\u001b[0;32m//anaconda/lib/python3.5/timeit.py\u001b[0m in \u001b[0;36minner\u001b[0;34m(_it, _timer)\u001b[0m\n",
      "\u001b[0;31mKeyboardInterrupt\u001b[0m: "
     ]
    }
   ],
   "source": [
    "for i in range(10000,1000001,20000):\n",
    "    t = timeit.Timer(\"x.index(random.randrange(%d))\"%i,\n",
    "                     \"from __main__ import random,x\")\n",
    "    x = list(range(i))\n",
    "    lst_time = t.timeit(number=1000)\n",
    "    print(\"%d,%10.3f\" % (i, lst_time))\n"
   ]
  },
  {
   "cell_type": "markdown",
   "metadata": {
    "collapsed": true
   },
   "source": [
    "* Devise an experiment to verify that get item and set item are $O(1)$\n",
    " for dictionaries."
   ]
  },
  {
   "cell_type": "code",
   "execution_count": 102,
   "metadata": {
    "collapsed": false
   },
   "outputs": [
    {
     "name": "stdout",
     "output_type": "stream",
     "text": [
      "10000,     7.065,     0.000\n",
      "30000,     7.065,     0.000\n",
      "50000,     7.065,     0.000\n",
      "70000,     7.065,     0.000\n",
      "90000,     7.065,     0.000\n",
      "110000,     7.065,     0.000\n",
      "130000,     7.065,     0.000\n",
      "150000,     7.065,     0.000\n",
      "170000,     7.065,     0.000\n",
      "190000,     7.065,     0.000\n",
      "210000,     7.065,     0.000\n",
      "230000,     7.065,     0.000\n",
      "250000,     7.065,     0.000\n",
      "270000,     7.065,     0.000\n",
      "290000,     7.065,     0.000\n",
      "310000,     7.065,     0.000\n",
      "330000,     7.065,     0.000\n",
      "350000,     7.065,     0.000\n",
      "370000,     7.065,     0.000\n",
      "390000,     7.065,     0.000\n",
      "410000,     7.065,     0.000\n",
      "430000,     7.065,     0.000\n",
      "450000,     7.065,     0.000\n",
      "470000,     7.065,     0.000\n",
      "490000,     7.065,     0.000\n",
      "510000,     7.065,     0.000\n",
      "530000,     7.065,     0.000\n",
      "550000,     7.065,     0.000\n",
      "570000,     7.065,     0.000\n",
      "590000,     7.065,     0.000\n",
      "610000,     7.065,     0.000\n",
      "630000,     7.065,     0.000\n",
      "650000,     7.065,     0.000\n",
      "670000,     7.065,     0.000\n",
      "690000,     7.065,     0.000\n",
      "710000,     7.065,     0.000\n",
      "730000,     7.065,     0.000\n",
      "750000,     7.065,     0.000\n",
      "770000,     7.065,     0.000\n",
      "790000,     7.065,     0.000\n",
      "810000,     7.065,     0.000\n",
      "830000,     7.065,     0.000\n",
      "850000,     7.065,     0.000\n",
      "870000,     7.065,     0.000\n",
      "890000,     7.065,     0.000\n",
      "910000,     7.065,     0.000\n",
      "930000,     7.065,     0.000\n",
      "950000,     7.065,     0.000\n",
      "970000,     7.065,     0.000\n",
      "990000,     7.065,     0.000\n"
     ]
    }
   ],
   "source": [
    "for i in range(10000,1000001,20000):\n",
    "    t = timeit.Timer(\"x.get(random.randrange(%d))\"%i,\n",
    "                     \"from __main__ import random,x\")\n",
    "    x = {j:None for j in range(i)}\n",
    "    d_time = t.timeit(number=1000)\n",
    "#second one\n",
    "    t2 = timeit.Timer(\"x[%d+5] = None\"%i,\n",
    "                     \"from __main__ import x\")\n",
    "    d_time = t2.timeit(number=1000)\n",
    "    print(\"%d,%10.3f,%10.3f\" % (i, lst_time,d_time))"
   ]
  },
  {
   "cell_type": "markdown",
   "metadata": {
    "collapsed": true
   },
   "source": [
    "* Given a list of numbers in random order, write an algorithm that works in O(nlog(n))\n",
    " to find the kth smallest number in the list.\n"
   ]
  },
  {
   "cell_type": "code",
   "execution_count": 103,
   "metadata": {
    "collapsed": true
   },
   "outputs": [],
   "source": [
    "#this works in n^2, nested loop\n",
    "def findmin(alist):\n",
    "    overallmin = alist[0]\n",
    "    for i in alist:\n",
    "            if i > j:\n",
    "                issmallest = False\n",
    "        if issmallest:\n",
    "            overallmin = i\n",
    "    return overallmin"
   ]
  },
  {
   "cell_type": "code",
   "execution_count": 104,
   "metadata": {
    "collapsed": false
   },
   "outputs": [
    {
     "name": "stdout",
     "output_type": "stream",
     "text": [
      "1\n"
     ]
    }
   ],
   "source": [
    "print(findmin([5,4,1,8,7]))"
   ]
  },
  {
   "cell_type": "code",
   "execution_count": 30,
   "metadata": {
    "collapsed": true
   },
   "outputs": [],
   "source": [
    "#this works in n\n",
    "def findmin(alist):\n",
    "    x = alist[0]\n",
    "    for i in alist:\n",
    "        if i < x:\n",
    "            x = i\n",
    "    return x"
   ]
  },
  {
   "cell_type": "code",
   "execution_count": 35,
   "metadata": {
    "collapsed": false
   },
   "outputs": [],
   "source": [
    "# this is the solution, it works in k n (not n log n), so partial solution: \n",
    "def findmin(alist,k):\n",
    "    for _ in range(k):\n",
    "        x = alist[0]\n",
    "        for i in alist:\n",
    "            if i < x:\n",
    "                x = i\n",
    "        alist.remove(x)\n",
    "    return x"
   ]
  },
  {
   "cell_type": "code",
   "execution_count": 45,
   "metadata": {
    "collapsed": false
   },
   "outputs": [
    {
     "name": "stdout",
     "output_type": "stream",
     "text": [
      "8\n"
     ]
    },
    {
     "data": {
      "text/plain": [
       "[18]"
      ]
     },
     "execution_count": 45,
     "metadata": {},
     "output_type": "execute_result"
    }
   ],
   "source": [
    "alist = [5,5,-2,4,1,8,7,18]\n",
    "print(findmin(alist,7))\n",
    "alist"
   ]
  },
  {
   "cell_type": "markdown",
   "metadata": {
    "collapsed": true
   },
   "source": [
    "Now let's test the solution"
   ]
  },
  {
   "cell_type": "code",
   "execution_count": 61,
   "metadata": {
    "collapsed": false
   },
   "outputs": [
    {
     "name": "stdout",
     "output_type": "stream",
     "text": [
      "1000,     2.095\n",
      "21000,    44.359\n",
      "41000,    86.376\n",
      "61000,   124.794\n",
      "81000,   174.779\n"
     ]
    }
   ],
   "source": [
    "for i in range(1000,100001,20000):\n",
    "    t = timeit.Timer(\"findmin([random.randrange(1, 20) for _ in range(0, %d)],2)\"%i,\n",
    "                     \"from __main__ import random,findmin\")\n",
    "    d_time = t.timeit(number=1000)\n",
    "    \n",
    "    print(\"%d,%10.3f\" % (i, d_time))"
   ]
  },
  {
   "cell_type": "markdown",
   "metadata": {
    "collapsed": true
   },
   "source": [
    "** It's linear! We're done with two quesitons jaja.**\n"
   ]
  },
  {
   "cell_type": "markdown",
   "metadata": {},
   "source": [
    "# Review Questions"
   ]
  },
  {
   "cell_type": "markdown",
   "metadata": {},
   "source": [
    "* Big-O performance"
   ]
  },
  {
   "cell_type": "code",
   "execution_count": 24,
   "metadata": {
    "collapsed": false
   },
   "outputs": [],
   "source": [
    "def q1(n):\n",
    "    for i in range(n):\n",
    "        for j in range(n):\n",
    "            k = 2 + 2\n"
   ]
  },
  {
   "cell_type": "code",
   "execution_count": 43,
   "metadata": {
    "collapsed": false
   },
   "outputs": [
    {
     "name": "stdout",
     "output_type": "stream",
     "text": [
      "10,     0.009\n",
      "30,     0.044\n",
      "50,     0.093\n",
      "70,     0.143\n",
      "90,     0.231\n"
     ]
    }
   ],
   "source": [
    "for i in range(10,101,20):\n",
    "    t = timeit.Timer(\"q1(%d) in x\"%i,\n",
    "                     \"from __main__ import q1,x\")\n",
    "    x = list(range(i))\n",
    "    lst_time = t.timeit(number=1000)\n",
    "    print(\"%d,%10.3f\" % (i, lst_time))\n"
   ]
  },
  {
   "cell_type": "markdown",
   "metadata": {},
   "source": [
    "**Quadratic**"
   ]
  },
  {
   "cell_type": "markdown",
   "metadata": {},
   "source": [
    "* Big-O performance"
   ]
  },
  {
   "cell_type": "code",
   "execution_count": 45,
   "metadata": {
    "collapsed": false
   },
   "outputs": [],
   "source": [
    "def q1(n):\n",
    "    for i in range(n):\n",
    "        k = 2 + 2"
   ]
  },
  {
   "cell_type": "code",
   "execution_count": 46,
   "metadata": {
    "collapsed": false
   },
   "outputs": [
    {
     "name": "stdout",
     "output_type": "stream",
     "text": [
      "10,     0.001\n",
      "30,     0.003\n",
      "50,     0.004\n",
      "70,     0.004\n",
      "90,     0.006\n"
     ]
    }
   ],
   "source": [
    "for i in range(10,101,20):\n",
    "    t = timeit.Timer(\"q1(%d) in x\"%i,\n",
    "                     \"from __main__ import q1,x\")\n",
    "    x = list(range(i))\n",
    "    lst_time = t.timeit(number=1000)\n",
    "    print(\"%d,%10.3f\" % (i, lst_time))\n"
   ]
  },
  {
   "cell_type": "markdown",
   "metadata": {},
   "source": [
    "**linear**"
   ]
  },
  {
   "cell_type": "markdown",
   "metadata": {},
   "source": [
    "* Big-O performance"
   ]
  },
  {
   "cell_type": "code",
   "execution_count": 48,
   "metadata": {
    "collapsed": false
   },
   "outputs": [],
   "source": [
    "def q1(n):\n",
    "    i = n\n",
    "    while i > 0:\n",
    "        k = 2 + 2\n",
    "        i = i // 2"
   ]
  },
  {
   "cell_type": "code",
   "execution_count": 49,
   "metadata": {
    "collapsed": false
   },
   "outputs": [
    {
     "name": "stdout",
     "output_type": "stream",
     "text": [
      "10,     0.001\n",
      "30,     0.002\n",
      "50,     0.003\n",
      "70,     0.005\n",
      "90,     0.005\n"
     ]
    }
   ],
   "source": [
    "for i in range(10,101,20):\n",
    "    t = timeit.Timer(\"q1(%d) in x\"%i,\n",
    "                     \"from __main__ import q1,x\")\n",
    "    x = list(range(i))\n",
    "    lst_time = t.timeit(number=1000)\n",
    "    print(\"%d,%10.3f\" % (i, lst_time))\n"
   ]
  },
  {
   "cell_type": "markdown",
   "metadata": {},
   "source": [
    "**logarithmic**"
   ]
  },
  {
   "cell_type": "markdown",
   "metadata": {},
   "source": [
    "* Big-O performance"
   ]
  },
  {
   "cell_type": "code",
   "execution_count": 50,
   "metadata": {
    "collapsed": false
   },
   "outputs": [],
   "source": [
    "def q1(n):\n",
    "    for i in range(n):\n",
    "        for j in range(n):\n",
    "            for k in range(n):\n",
    "                 k = 2 + 2"
   ]
  },
  {
   "cell_type": "code",
   "execution_count": 51,
   "metadata": {
    "collapsed": false
   },
   "outputs": [
    {
     "name": "stdout",
     "output_type": "stream",
     "text": [
      "10,     0.082\n",
      "30,     1.013\n",
      "50,     3.856\n",
      "70,    10.183\n",
      "90,    20.834\n"
     ]
    }
   ],
   "source": [
    "for i in range(10,101,20):\n",
    "    t = timeit.Timer(\"q1(%d) in x\"%i,\n",
    "                     \"from __main__ import q1,x\")\n",
    "    x = list(range(i))\n",
    "    lst_time = t.timeit(number=1000)\n",
    "    print(\"%d,%10.3f\" % (i, lst_time))\n"
   ]
  },
  {
   "cell_type": "markdown",
   "metadata": {},
   "source": [
    "**cubic**"
   ]
  },
  {
   "cell_type": "markdown",
   "metadata": {},
   "source": [
    "* Big-O performance"
   ]
  },
  {
   "cell_type": "code",
   "execution_count": 45,
   "metadata": {
    "collapsed": false
   },
   "outputs": [],
   "source": [
    "def q1(n):\n",
    "    for i in range(n):\n",
    "        k = 2 + 2"
   ]
  },
  {
   "cell_type": "code",
   "execution_count": 46,
   "metadata": {
    "collapsed": false
   },
   "outputs": [
    {
     "name": "stdout",
     "output_type": "stream",
     "text": [
      "10,     0.001\n",
      "30,     0.003\n",
      "50,     0.004\n",
      "70,     0.004\n",
      "90,     0.006\n"
     ]
    }
   ],
   "source": [
    "for i in range(10,101,20):\n",
    "    t = timeit.Timer(\"q1(%d) in x\"%i,\n",
    "                     \"from __main__ import q1,x\")\n",
    "    x = list(range(i))\n",
    "    lst_time = t.timeit(number=1000)\n",
    "    print(\"%d,%10.3f\" % (i, lst_time))\n"
   ]
  },
  {
   "cell_type": "markdown",
   "metadata": {},
   "source": [
    "**linear**"
   ]
  },
  {
   "cell_type": "markdown",
   "metadata": {},
   "source": [
    "* Big-O performance"
   ]
  },
  {
   "cell_type": "code",
   "execution_count": 52,
   "metadata": {
    "collapsed": false
   },
   "outputs": [],
   "source": [
    "def q1(n):\n",
    "    for i in range(n):\n",
    "        k = 2 + 2\n",
    "    for j in range(n):\n",
    "        k = 2 + 2\n",
    "    for k in range(n):\n",
    "        k = 2 + 2"
   ]
  },
  {
   "cell_type": "code",
   "execution_count": 53,
   "metadata": {
    "collapsed": false
   },
   "outputs": [
    {
     "name": "stdout",
     "output_type": "stream",
     "text": [
      "10,     0.003\n",
      "30,     0.005\n",
      "50,     0.007\n",
      "70,     0.009\n",
      "90,     0.011\n"
     ]
    }
   ],
   "source": [
    "for i in range(10,101,20):\n",
    "    t = timeit.Timer(\"q1(%d) in x\"%i,\n",
    "                     \"from __main__ import q1,x\")\n",
    "    x = list(range(i))\n",
    "    lst_time = t.timeit(number=1000)\n",
    "    print(\"%d,%10.3f\" % (i, lst_time))\n"
   ]
  },
  {
   "cell_type": "markdown",
   "metadata": {},
   "source": [
    "**linear**"
   ]
  },
  {
   "cell_type": "code",
   "execution_count": null,
   "metadata": {
    "collapsed": true
   },
   "outputs": [],
   "source": []
  }
 ],
 "metadata": {
  "anaconda-cloud": {},
  "kernelspec": {
   "display_name": "Python 3",
   "language": "python",
   "name": "python3"
  },
  "language_info": {
   "codemirror_mode": {
    "name": "ipython",
    "version": 3
   },
   "file_extension": ".py",
   "mimetype": "text/x-python",
   "name": "python",
   "nbconvert_exporter": "python",
   "pygments_lexer": "ipython3",
   "version": "3.5.2"
  }
 },
 "nbformat": 4,
 "nbformat_minor": 1
}
